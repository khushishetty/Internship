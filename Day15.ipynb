{
  "nbformat": 4,
  "nbformat_minor": 0,
  "metadata": {
    "colab": {
      "name": "Day15.ipynb",
      "provenance": [],
      "collapsed_sections": [],
      "authorship_tag": "ABX9TyMdvqolMHT4pXufvZ75ttl0",
      "include_colab_link": true
    },
    "kernelspec": {
      "name": "python3",
      "display_name": "Python 3"
    }
  },
  "cells": [
    {
      "cell_type": "markdown",
      "metadata": {
        "id": "view-in-github",
        "colab_type": "text"
      },
      "source": [
        "<a href=\"https://colab.research.google.com/github/khushishetty/Internship/blob/master/Day15.ipynb\" target=\"_parent\"><img src=\"https://colab.research.google.com/assets/colab-badge.svg\" alt=\"Open In Colab\"/></a>"
      ]
    },
    {
      "cell_type": "code",
      "metadata": {
        "id": "_SqOoTn7v0eA",
        "colab_type": "code",
        "colab": {}
      },
      "source": [
        "import nltk"
      ],
      "execution_count": 1,
      "outputs": []
    },
    {
      "cell_type": "code",
      "metadata": {
        "id": "H5Wh5loTy69X",
        "colab_type": "code",
        "colab": {}
      },
      "source": [
        "from bs4 import BeautifulSoup"
      ],
      "execution_count": 2,
      "outputs": []
    },
    {
      "cell_type": "code",
      "metadata": {
        "id": "KDJoXUeXzA8n",
        "colab_type": "code",
        "colab": {}
      },
      "source": [
        "from urllib.request import urlopen"
      ],
      "execution_count": 3,
      "outputs": []
    },
    {
      "cell_type": "code",
      "metadata": {
        "id": "_cCL-GyTzHJo",
        "colab_type": "code",
        "colab": {}
      },
      "source": [
        "raw=urlopen(\"https://www.w3.org/TR/PNG/iso_8859-1.txt\").read()\n"
      ],
      "execution_count": 6,
      "outputs": []
    },
    {
      "cell_type": "code",
      "metadata": {
        "id": "krF7klRoztb6",
        "colab_type": "code",
        "colab": {
          "base_uri": "https://localhost:8080/",
          "height": 55
        },
        "outputId": "b086eaa1-2337-4486-b4e1-0d4bbefcec25"
      },
      "source": [
        "raw"
      ],
      "execution_count": 7,
      "outputs": [
        {
          "output_type": "execute_result",
          "data": {
            "text/plain": [
              "b\"The following are the graphical (non-control) characters defined by\\nISO 8859-1 (1987).  Descriptions in words aren't all that helpful,\\nbut they're the best we can do in text.  A graphics file illustrating\\nthe character set should be available from the same archive as this\\nfile.\\n\\nHex Description                 Hex Description\\n\\n20  SPACE\\n21  EXCLAMATION MARK            A1  INVERTED EXCLAMATION MARK\\n22  QUOTATION MARK              A2  CENT SIGN\\n23  NUMBER SIGN                 A3  POUND SIGN\\n24  DOLLAR SIGN                 A4  CURRENCY SIGN\\n25  PERCENT SIGN                A5  YEN SIGN\\n26  AMPERSAND                   A6  BROKEN BAR\\n27  APOSTROPHE                  A7  SECTION SIGN\\n28  LEFT PARENTHESIS            A8  DIAERESIS\\n29  RIGHT PARENTHESIS           A9  COPYRIGHT SIGN\\n2A  ASTERISK                    AA  FEMININE ORDINAL INDICATOR\\n2B  PLUS SIGN                   AB  LEFT-POINTING DOUBLE ANGLE QUOTATION MARK\\n2C  COMMA                       AC  NOT SIGN\\n2D  HYPHEN-MINUS                AD  SOFT HYPHEN\\n2E  FULL STOP                   AE  REGISTERED SIGN\\n2F  SOLIDUS                     AF  OVERLINE\\n30  DIGIT ZERO                  B0  DEGREE SIGN\\n31  DIGIT ONE                   B1  PLUS-MINUS SIGN\\n32  DIGIT TWO                   B2  SUPERSCRIPT TWO\\n33  DIGIT THREE                 B3  SUPERSCRIPT THREE\\n34  DIGIT FOUR                  B4  ACUTE ACCENT\\n35  DIGIT FIVE                  B5  MICRO SIGN\\n36  DIGIT SIX                   B6  PILCROW SIGN\\n37  DIGIT SEVEN                 B7  MIDDLE DOT\\n38  DIGIT EIGHT                 B8  CEDILLA\\n39  DIGIT NINE                  B9  SUPERSCRIPT ONE\\n3A  COLON                       BA  MASCULINE ORDINAL INDICATOR\\n3B  SEMICOLON                   BB  RIGHT-POINTING DOUBLE ANGLE QUOTATION MARK\\n3C  LESS-THAN SIGN              BC  VULGAR FRACTION ONE QUARTER\\n3D  EQUALS SIGN                 BD  VULGAR FRACTION ONE HALF\\n3E  GREATER-THAN SIGN           BE  VULGAR FRACTION THREE QUARTERS\\n3F  QUESTION MARK               BF  INVERTED QUESTION MARK\\n40  COMMERCIAL AT               C0  CAPITAL LETTER A WITH GRAVE\\n41  CAPITAL LETTER A            C1  CAPITAL LETTER A WITH ACUTE\\n42  CAPITAL LETTER B            C2  CAPITAL LETTER A WITH CIRCUMFLEX\\n43  CAPITAL LETTER C            C3  CAPITAL LETTER A WITH TILDE\\n44  CAPITAL LETTER D            C4  CAPITAL LETTER A WITH DIAERESIS\\n45  CAPITAL LETTER E            C5  CAPITAL LETTER A WITH RING ABOVE\\n46  CAPITAL LETTER F            C6  CAPITAL LETTER AE\\n47  CAPITAL LETTER G            C7  CAPITAL LETTER C WITH CEDILLA\\n48  CAPITAL LETTER H            C8  CAPITAL LETTER E WITH GRAVE\\n49  CAPITAL LETTER I            C9  CAPITAL LETTER E WITH ACUTE\\n4A  CAPITAL LETTER J            CA  CAPITAL LETTER E WITH CIRCUMFLEX\\n4B  CAPITAL LETTER K            CB  CAPITAL LETTER E WITH DIAERESIS\\n4C  CAPITAL LETTER L            CC  CAPITAL LETTER I WITH GRAVE\\n4D  CAPITAL LETTER M            CD  CAPITAL LETTER I WITH ACUTE\\n4E  CAPITAL LETTER N            CE  CAPITAL LETTER I WITH CIRCUMFLEX\\n4F  CAPITAL LETTER O            CF  CAPITAL LETTER I WITH DIAERESIS\\n50  CAPITAL LETTER P            D0  CAPITAL LETTER ETH (Icelandic)\\n51  CAPITAL LETTER Q            D1  CAPITAL LETTER N WITH TILDE\\n52  CAPITAL LETTER R            D2  CAPITAL LETTER O WITH GRAVE\\n53  CAPITAL LETTER S            D3  CAPITAL LETTER O WITH ACUTE\\n54  CAPITAL LETTER T            D4  CAPITAL LETTER O WITH CIRCUMFLEX\\n55  CAPITAL LETTER U            D5  CAPITAL LETTER O WITH TILDE\\n56  CAPITAL LETTER V            D6  CAPITAL LETTER O WITH DIAERESIS\\n57  CAPITAL LETTER W            D7  MULTIPLICATION SIGN\\n58  CAPITAL LETTER X            D8  CAPITAL LETTER O WITH STROKE\\n59  CAPITAL LETTER Y            D9  CAPITAL LETTER U WITH GRAVE\\n5A  CAPITAL LETTER Z            DA  CAPITAL LETTER U WITH ACUTE\\n5B  LEFT SQUARE BRACKET         DB  CAPITAL LETTER U WITH CIRCUMFLEX\\n5C  REVERSE SOLIDUS             DC  CAPITAL LETTER U WITH DIAERESIS\\n5D  RIGHT SQUARE BRACKET        DD  CAPITAL LETTER Y WITH ACUTE\\n5E  CIRCUMFLEX ACCENT           DE  CAPITAL LETTER THORN (Icelandic)\\n5F  LOW LINE                    DF  SMALL LETTER SHARP S (German)\\n60  GRAVE ACCENT                E0  SMALL LETTER A WITH GRAVE\\n61  SMALL LETTER A              E1  SMALL LETTER A WITH ACUTE\\n62  SMALL LETTER B              E2  SMALL LETTER A WITH CIRCUMFLEX\\n63  SMALL LETTER C              E3  SMALL LETTER A WITH TILDE\\n64  SMALL LETTER D              E4  SMALL LETTER A WITH DIAERESIS\\n65  SMALL LETTER E              E5  SMALL LETTER A WITH RING ABOVE\\n66  SMALL LETTER F              E6  SMALL LETTER AE\\n67  SMALL LETTER G              E7  SMALL LETTER C WITH CEDILLA\\n68  SMALL LETTER H              E8  SMALL LETTER E WITH GRAVE\\n69  SMALL LETTER I              E9  SMALL LETTER E WITH ACUTE\\n6A  SMALL LETTER J              EA  SMALL LETTER E WITH CIRCUMFLEX\\n6B  SMALL LETTER K              EB  SMALL LETTER E WITH DIAERESIS\\n6C  SMALL LETTER L              EC  SMALL LETTER I WITH GRAVE\\n6D  SMALL LETTER M              ED  SMALL LETTER I WITH ACUTE\\n6E  SMALL LETTER N              EE  SMALL LETTER I WITH CIRCUMFLEX\\n6F  SMALL LETTER O              EF  SMALL LETTER I WITH DIAERESIS\\n70  SMALL LETTER P              F0  SMALL LETTER ETH (Icelandic)\\n71  SMALL LETTER Q              F1  SMALL LETTER N WITH TILDE\\n72  SMALL LETTER R              F2  SMALL LETTER O WITH GRAVE\\n73  SMALL LETTER S              F3  SMALL LETTER O WITH ACUTE\\n74  SMALL LETTER T              F4  SMALL LETTER O WITH CIRCUMFLEX\\n75  SMALL LETTER U              F5  SMALL LETTER O WITH TILDE\\n76  SMALL LETTER V              F6  SMALL LETTER O WITH DIAERESIS\\n77  SMALL LETTER W              F7  DIVISION SIGN\\n78  SMALL LETTER X              F8  SMALL LETTER O WITH STROKE\\n79  SMALL LETTER Y              F9  SMALL LETTER U WITH GRAVE\\n7A  SMALL LETTER Z              FA  SMALL LETTER U WITH ACUTE\\n7B  LEFT CURLY BRACKET          FB  SMALL LETTER U WITH CIRCUMFLEX\\n7C  VERTICAL LINE               FC  SMALL LETTER U WITH DIAERESIS\\n7D  RIGHT CURLY BRACKET         FD  SMALL LETTER Y WITH ACUTE\\n7E  TILDE                       FE  SMALL LETTER THORN (Icelandic)\\n                                FF  SMALL LETTER Y WITH DIAERESIS\\n\""
            ]
          },
          "metadata": {
            "tags": []
          },
          "execution_count": 7
        }
      ]
    },
    {
      "cell_type": "code",
      "metadata": {
        "id": "aErF55-TzyLh",
        "colab_type": "code",
        "colab": {}
      },
      "source": [
        "raw1=BeautifulSoup(raw)"
      ],
      "execution_count": 8,
      "outputs": []
    },
    {
      "cell_type": "code",
      "metadata": {
        "id": "mAdlVKxCz8v8",
        "colab_type": "code",
        "colab": {
          "base_uri": "https://localhost:8080/",
          "height": 1000
        },
        "outputId": "5717bde3-3b8e-4497-8c60-25627d1df32e"
      },
      "source": [
        "raw1"
      ],
      "execution_count": 9,
      "outputs": [
        {
          "output_type": "execute_result",
          "data": {
            "text/plain": [
              "<html><body><p>The following are the graphical (non-control) characters defined by\n",
              "ISO 8859-1 (1987).  Descriptions in words aren't all that helpful,\n",
              "but they're the best we can do in text.  A graphics file illustrating\n",
              "the character set should be available from the same archive as this\n",
              "file.\n",
              "\n",
              "Hex Description                 Hex Description\n",
              "\n",
              "20  SPACE\n",
              "21  EXCLAMATION MARK            A1  INVERTED EXCLAMATION MARK\n",
              "22  QUOTATION MARK              A2  CENT SIGN\n",
              "23  NUMBER SIGN                 A3  POUND SIGN\n",
              "24  DOLLAR SIGN                 A4  CURRENCY SIGN\n",
              "25  PERCENT SIGN                A5  YEN SIGN\n",
              "26  AMPERSAND                   A6  BROKEN BAR\n",
              "27  APOSTROPHE                  A7  SECTION SIGN\n",
              "28  LEFT PARENTHESIS            A8  DIAERESIS\n",
              "29  RIGHT PARENTHESIS           A9  COPYRIGHT SIGN\n",
              "2A  ASTERISK                    AA  FEMININE ORDINAL INDICATOR\n",
              "2B  PLUS SIGN                   AB  LEFT-POINTING DOUBLE ANGLE QUOTATION MARK\n",
              "2C  COMMA                       AC  NOT SIGN\n",
              "2D  HYPHEN-MINUS                AD  SOFT HYPHEN\n",
              "2E  FULL STOP                   AE  REGISTERED SIGN\n",
              "2F  SOLIDUS                     AF  OVERLINE\n",
              "30  DIGIT ZERO                  B0  DEGREE SIGN\n",
              "31  DIGIT ONE                   B1  PLUS-MINUS SIGN\n",
              "32  DIGIT TWO                   B2  SUPERSCRIPT TWO\n",
              "33  DIGIT THREE                 B3  SUPERSCRIPT THREE\n",
              "34  DIGIT FOUR                  B4  ACUTE ACCENT\n",
              "35  DIGIT FIVE                  B5  MICRO SIGN\n",
              "36  DIGIT SIX                   B6  PILCROW SIGN\n",
              "37  DIGIT SEVEN                 B7  MIDDLE DOT\n",
              "38  DIGIT EIGHT                 B8  CEDILLA\n",
              "39  DIGIT NINE                  B9  SUPERSCRIPT ONE\n",
              "3A  COLON                       BA  MASCULINE ORDINAL INDICATOR\n",
              "3B  SEMICOLON                   BB  RIGHT-POINTING DOUBLE ANGLE QUOTATION MARK\n",
              "3C  LESS-THAN SIGN              BC  VULGAR FRACTION ONE QUARTER\n",
              "3D  EQUALS SIGN                 BD  VULGAR FRACTION ONE HALF\n",
              "3E  GREATER-THAN SIGN           BE  VULGAR FRACTION THREE QUARTERS\n",
              "3F  QUESTION MARK               BF  INVERTED QUESTION MARK\n",
              "40  COMMERCIAL AT               C0  CAPITAL LETTER A WITH GRAVE\n",
              "41  CAPITAL LETTER A            C1  CAPITAL LETTER A WITH ACUTE\n",
              "42  CAPITAL LETTER B            C2  CAPITAL LETTER A WITH CIRCUMFLEX\n",
              "43  CAPITAL LETTER C            C3  CAPITAL LETTER A WITH TILDE\n",
              "44  CAPITAL LETTER D            C4  CAPITAL LETTER A WITH DIAERESIS\n",
              "45  CAPITAL LETTER E            C5  CAPITAL LETTER A WITH RING ABOVE\n",
              "46  CAPITAL LETTER F            C6  CAPITAL LETTER AE\n",
              "47  CAPITAL LETTER G            C7  CAPITAL LETTER C WITH CEDILLA\n",
              "48  CAPITAL LETTER H            C8  CAPITAL LETTER E WITH GRAVE\n",
              "49  CAPITAL LETTER I            C9  CAPITAL LETTER E WITH ACUTE\n",
              "4A  CAPITAL LETTER J            CA  CAPITAL LETTER E WITH CIRCUMFLEX\n",
              "4B  CAPITAL LETTER K            CB  CAPITAL LETTER E WITH DIAERESIS\n",
              "4C  CAPITAL LETTER L            CC  CAPITAL LETTER I WITH GRAVE\n",
              "4D  CAPITAL LETTER M            CD  CAPITAL LETTER I WITH ACUTE\n",
              "4E  CAPITAL LETTER N            CE  CAPITAL LETTER I WITH CIRCUMFLEX\n",
              "4F  CAPITAL LETTER O            CF  CAPITAL LETTER I WITH DIAERESIS\n",
              "50  CAPITAL LETTER P            D0  CAPITAL LETTER ETH (Icelandic)\n",
              "51  CAPITAL LETTER Q            D1  CAPITAL LETTER N WITH TILDE\n",
              "52  CAPITAL LETTER R            D2  CAPITAL LETTER O WITH GRAVE\n",
              "53  CAPITAL LETTER S            D3  CAPITAL LETTER O WITH ACUTE\n",
              "54  CAPITAL LETTER T            D4  CAPITAL LETTER O WITH CIRCUMFLEX\n",
              "55  CAPITAL LETTER U            D5  CAPITAL LETTER O WITH TILDE\n",
              "56  CAPITAL LETTER V            D6  CAPITAL LETTER O WITH DIAERESIS\n",
              "57  CAPITAL LETTER W            D7  MULTIPLICATION SIGN\n",
              "58  CAPITAL LETTER X            D8  CAPITAL LETTER O WITH STROKE\n",
              "59  CAPITAL LETTER Y            D9  CAPITAL LETTER U WITH GRAVE\n",
              "5A  CAPITAL LETTER Z            DA  CAPITAL LETTER U WITH ACUTE\n",
              "5B  LEFT SQUARE BRACKET         DB  CAPITAL LETTER U WITH CIRCUMFLEX\n",
              "5C  REVERSE SOLIDUS             DC  CAPITAL LETTER U WITH DIAERESIS\n",
              "5D  RIGHT SQUARE BRACKET        DD  CAPITAL LETTER Y WITH ACUTE\n",
              "5E  CIRCUMFLEX ACCENT           DE  CAPITAL LETTER THORN (Icelandic)\n",
              "5F  LOW LINE                    DF  SMALL LETTER SHARP S (German)\n",
              "60  GRAVE ACCENT                E0  SMALL LETTER A WITH GRAVE\n",
              "61  SMALL LETTER A              E1  SMALL LETTER A WITH ACUTE\n",
              "62  SMALL LETTER B              E2  SMALL LETTER A WITH CIRCUMFLEX\n",
              "63  SMALL LETTER C              E3  SMALL LETTER A WITH TILDE\n",
              "64  SMALL LETTER D              E4  SMALL LETTER A WITH DIAERESIS\n",
              "65  SMALL LETTER E              E5  SMALL LETTER A WITH RING ABOVE\n",
              "66  SMALL LETTER F              E6  SMALL LETTER AE\n",
              "67  SMALL LETTER G              E7  SMALL LETTER C WITH CEDILLA\n",
              "68  SMALL LETTER H              E8  SMALL LETTER E WITH GRAVE\n",
              "69  SMALL LETTER I              E9  SMALL LETTER E WITH ACUTE\n",
              "6A  SMALL LETTER J              EA  SMALL LETTER E WITH CIRCUMFLEX\n",
              "6B  SMALL LETTER K              EB  SMALL LETTER E WITH DIAERESIS\n",
              "6C  SMALL LETTER L              EC  SMALL LETTER I WITH GRAVE\n",
              "6D  SMALL LETTER M              ED  SMALL LETTER I WITH ACUTE\n",
              "6E  SMALL LETTER N              EE  SMALL LETTER I WITH CIRCUMFLEX\n",
              "6F  SMALL LETTER O              EF  SMALL LETTER I WITH DIAERESIS\n",
              "70  SMALL LETTER P              F0  SMALL LETTER ETH (Icelandic)\n",
              "71  SMALL LETTER Q              F1  SMALL LETTER N WITH TILDE\n",
              "72  SMALL LETTER R              F2  SMALL LETTER O WITH GRAVE\n",
              "73  SMALL LETTER S              F3  SMALL LETTER O WITH ACUTE\n",
              "74  SMALL LETTER T              F4  SMALL LETTER O WITH CIRCUMFLEX\n",
              "75  SMALL LETTER U              F5  SMALL LETTER O WITH TILDE\n",
              "76  SMALL LETTER V              F6  SMALL LETTER O WITH DIAERESIS\n",
              "77  SMALL LETTER W              F7  DIVISION SIGN\n",
              "78  SMALL LETTER X              F8  SMALL LETTER O WITH STROKE\n",
              "79  SMALL LETTER Y              F9  SMALL LETTER U WITH GRAVE\n",
              "7A  SMALL LETTER Z              FA  SMALL LETTER U WITH ACUTE\n",
              "7B  LEFT CURLY BRACKET          FB  SMALL LETTER U WITH CIRCUMFLEX\n",
              "7C  VERTICAL LINE               FC  SMALL LETTER U WITH DIAERESIS\n",
              "7D  RIGHT CURLY BRACKET         FD  SMALL LETTER Y WITH ACUTE\n",
              "7E  TILDE                       FE  SMALL LETTER THORN (Icelandic)\n",
              "                                FF  SMALL LETTER Y WITH DIAERESIS\n",
              "</p></body></html>"
            ]
          },
          "metadata": {
            "tags": []
          },
          "execution_count": 9
        }
      ]
    },
    {
      "cell_type": "code",
      "metadata": {
        "id": "J42LAbq3z_V7",
        "colab_type": "code",
        "colab": {}
      },
      "source": [
        "raw2 = raw1.get_text()"
      ],
      "execution_count": 10,
      "outputs": []
    },
    {
      "cell_type": "code",
      "metadata": {
        "id": "XwKvK4h50RjI",
        "colab_type": "code",
        "colab": {
          "base_uri": "https://localhost:8080/",
          "height": 55
        },
        "outputId": "0cd95731-8acf-46c7-f55f-ac658dcda67f"
      },
      "source": [
        "raw2"
      ],
      "execution_count": 11,
      "outputs": [
        {
          "output_type": "execute_result",
          "data": {
            "text/plain": [
              "\"The following are the graphical (non-control) characters defined by\\nISO 8859-1 (1987).  Descriptions in words aren't all that helpful,\\nbut they're the best we can do in text.  A graphics file illustrating\\nthe character set should be available from the same archive as this\\nfile.\\n\\nHex Description                 Hex Description\\n\\n20  SPACE\\n21  EXCLAMATION MARK            A1  INVERTED EXCLAMATION MARK\\n22  QUOTATION MARK              A2  CENT SIGN\\n23  NUMBER SIGN                 A3  POUND SIGN\\n24  DOLLAR SIGN                 A4  CURRENCY SIGN\\n25  PERCENT SIGN                A5  YEN SIGN\\n26  AMPERSAND                   A6  BROKEN BAR\\n27  APOSTROPHE                  A7  SECTION SIGN\\n28  LEFT PARENTHESIS            A8  DIAERESIS\\n29  RIGHT PARENTHESIS           A9  COPYRIGHT SIGN\\n2A  ASTERISK                    AA  FEMININE ORDINAL INDICATOR\\n2B  PLUS SIGN                   AB  LEFT-POINTING DOUBLE ANGLE QUOTATION MARK\\n2C  COMMA                       AC  NOT SIGN\\n2D  HYPHEN-MINUS                AD  SOFT HYPHEN\\n2E  FULL STOP                   AE  REGISTERED SIGN\\n2F  SOLIDUS                     AF  OVERLINE\\n30  DIGIT ZERO                  B0  DEGREE SIGN\\n31  DIGIT ONE                   B1  PLUS-MINUS SIGN\\n32  DIGIT TWO                   B2  SUPERSCRIPT TWO\\n33  DIGIT THREE                 B3  SUPERSCRIPT THREE\\n34  DIGIT FOUR                  B4  ACUTE ACCENT\\n35  DIGIT FIVE                  B5  MICRO SIGN\\n36  DIGIT SIX                   B6  PILCROW SIGN\\n37  DIGIT SEVEN                 B7  MIDDLE DOT\\n38  DIGIT EIGHT                 B8  CEDILLA\\n39  DIGIT NINE                  B9  SUPERSCRIPT ONE\\n3A  COLON                       BA  MASCULINE ORDINAL INDICATOR\\n3B  SEMICOLON                   BB  RIGHT-POINTING DOUBLE ANGLE QUOTATION MARK\\n3C  LESS-THAN SIGN              BC  VULGAR FRACTION ONE QUARTER\\n3D  EQUALS SIGN                 BD  VULGAR FRACTION ONE HALF\\n3E  GREATER-THAN SIGN           BE  VULGAR FRACTION THREE QUARTERS\\n3F  QUESTION MARK               BF  INVERTED QUESTION MARK\\n40  COMMERCIAL AT               C0  CAPITAL LETTER A WITH GRAVE\\n41  CAPITAL LETTER A            C1  CAPITAL LETTER A WITH ACUTE\\n42  CAPITAL LETTER B            C2  CAPITAL LETTER A WITH CIRCUMFLEX\\n43  CAPITAL LETTER C            C3  CAPITAL LETTER A WITH TILDE\\n44  CAPITAL LETTER D            C4  CAPITAL LETTER A WITH DIAERESIS\\n45  CAPITAL LETTER E            C5  CAPITAL LETTER A WITH RING ABOVE\\n46  CAPITAL LETTER F            C6  CAPITAL LETTER AE\\n47  CAPITAL LETTER G            C7  CAPITAL LETTER C WITH CEDILLA\\n48  CAPITAL LETTER H            C8  CAPITAL LETTER E WITH GRAVE\\n49  CAPITAL LETTER I            C9  CAPITAL LETTER E WITH ACUTE\\n4A  CAPITAL LETTER J            CA  CAPITAL LETTER E WITH CIRCUMFLEX\\n4B  CAPITAL LETTER K            CB  CAPITAL LETTER E WITH DIAERESIS\\n4C  CAPITAL LETTER L            CC  CAPITAL LETTER I WITH GRAVE\\n4D  CAPITAL LETTER M            CD  CAPITAL LETTER I WITH ACUTE\\n4E  CAPITAL LETTER N            CE  CAPITAL LETTER I WITH CIRCUMFLEX\\n4F  CAPITAL LETTER O            CF  CAPITAL LETTER I WITH DIAERESIS\\n50  CAPITAL LETTER P            D0  CAPITAL LETTER ETH (Icelandic)\\n51  CAPITAL LETTER Q            D1  CAPITAL LETTER N WITH TILDE\\n52  CAPITAL LETTER R            D2  CAPITAL LETTER O WITH GRAVE\\n53  CAPITAL LETTER S            D3  CAPITAL LETTER O WITH ACUTE\\n54  CAPITAL LETTER T            D4  CAPITAL LETTER O WITH CIRCUMFLEX\\n55  CAPITAL LETTER U            D5  CAPITAL LETTER O WITH TILDE\\n56  CAPITAL LETTER V            D6  CAPITAL LETTER O WITH DIAERESIS\\n57  CAPITAL LETTER W            D7  MULTIPLICATION SIGN\\n58  CAPITAL LETTER X            D8  CAPITAL LETTER O WITH STROKE\\n59  CAPITAL LETTER Y            D9  CAPITAL LETTER U WITH GRAVE\\n5A  CAPITAL LETTER Z            DA  CAPITAL LETTER U WITH ACUTE\\n5B  LEFT SQUARE BRACKET         DB  CAPITAL LETTER U WITH CIRCUMFLEX\\n5C  REVERSE SOLIDUS             DC  CAPITAL LETTER U WITH DIAERESIS\\n5D  RIGHT SQUARE BRACKET        DD  CAPITAL LETTER Y WITH ACUTE\\n5E  CIRCUMFLEX ACCENT           DE  CAPITAL LETTER THORN (Icelandic)\\n5F  LOW LINE                    DF  SMALL LETTER SHARP S (German)\\n60  GRAVE ACCENT                E0  SMALL LETTER A WITH GRAVE\\n61  SMALL LETTER A              E1  SMALL LETTER A WITH ACUTE\\n62  SMALL LETTER B              E2  SMALL LETTER A WITH CIRCUMFLEX\\n63  SMALL LETTER C              E3  SMALL LETTER A WITH TILDE\\n64  SMALL LETTER D              E4  SMALL LETTER A WITH DIAERESIS\\n65  SMALL LETTER E              E5  SMALL LETTER A WITH RING ABOVE\\n66  SMALL LETTER F              E6  SMALL LETTER AE\\n67  SMALL LETTER G              E7  SMALL LETTER C WITH CEDILLA\\n68  SMALL LETTER H              E8  SMALL LETTER E WITH GRAVE\\n69  SMALL LETTER I              E9  SMALL LETTER E WITH ACUTE\\n6A  SMALL LETTER J              EA  SMALL LETTER E WITH CIRCUMFLEX\\n6B  SMALL LETTER K              EB  SMALL LETTER E WITH DIAERESIS\\n6C  SMALL LETTER L              EC  SMALL LETTER I WITH GRAVE\\n6D  SMALL LETTER M              ED  SMALL LETTER I WITH ACUTE\\n6E  SMALL LETTER N              EE  SMALL LETTER I WITH CIRCUMFLEX\\n6F  SMALL LETTER O              EF  SMALL LETTER I WITH DIAERESIS\\n70  SMALL LETTER P              F0  SMALL LETTER ETH (Icelandic)\\n71  SMALL LETTER Q              F1  SMALL LETTER N WITH TILDE\\n72  SMALL LETTER R              F2  SMALL LETTER O WITH GRAVE\\n73  SMALL LETTER S              F3  SMALL LETTER O WITH ACUTE\\n74  SMALL LETTER T              F4  SMALL LETTER O WITH CIRCUMFLEX\\n75  SMALL LETTER U              F5  SMALL LETTER O WITH TILDE\\n76  SMALL LETTER V              F6  SMALL LETTER O WITH DIAERESIS\\n77  SMALL LETTER W              F7  DIVISION SIGN\\n78  SMALL LETTER X              F8  SMALL LETTER O WITH STROKE\\n79  SMALL LETTER Y              F9  SMALL LETTER U WITH GRAVE\\n7A  SMALL LETTER Z              FA  SMALL LETTER U WITH ACUTE\\n7B  LEFT CURLY BRACKET          FB  SMALL LETTER U WITH CIRCUMFLEX\\n7C  VERTICAL LINE               FC  SMALL LETTER U WITH DIAERESIS\\n7D  RIGHT CURLY BRACKET         FD  SMALL LETTER Y WITH ACUTE\\n7E  TILDE                       FE  SMALL LETTER THORN (Icelandic)\\n                                FF  SMALL LETTER Y WITH DIAERESIS\\n\""
            ]
          },
          "metadata": {
            "tags": []
          },
          "execution_count": 11
        }
      ]
    },
    {
      "cell_type": "code",
      "metadata": {
        "id": "W3smMkz70S4A",
        "colab_type": "code",
        "colab": {
          "base_uri": "https://localhost:8080/",
          "height": 208
        },
        "outputId": "cce85798-cef0-43ee-ec12-9382021209e9"
      },
      "source": [
        "import nltk\n",
        "nltk.download('punkt')\n",
        "from nltk.tokenize import word_tokenize\n",
        "text=\"Hey everyone, today we will disccuss project statements\"\n",
        "word_tokenize(text)"
      ],
      "execution_count": 14,
      "outputs": [
        {
          "output_type": "stream",
          "text": [
            "[nltk_data] Downloading package punkt to /root/nltk_data...\n",
            "[nltk_data]   Package punkt is already up-to-date!\n"
          ],
          "name": "stdout"
        },
        {
          "output_type": "execute_result",
          "data": {
            "text/plain": [
              "['Hey',\n",
              " 'everyone',\n",
              " ',',\n",
              " 'today',\n",
              " 'we',\n",
              " 'will',\n",
              " 'disccuss',\n",
              " 'project',\n",
              " 'statements']"
            ]
          },
          "metadata": {
            "tags": []
          },
          "execution_count": 14
        }
      ]
    },
    {
      "cell_type": "code",
      "metadata": {
        "id": "zZe6liKL1C_X",
        "colab_type": "code",
        "colab": {
          "base_uri": "https://localhost:8080/",
          "height": 35
        },
        "outputId": "c135e0a4-e5cb-4fff-8bfc-56237a015bc0"
      },
      "source": [
        "from nltk.tag import DefaultTagger\n",
        "tagging = DefaultTagger(\"DL\")\n",
        "tagging.tag([\"Hey\",\"DLITHE\",\"Interns\"])"
      ],
      "execution_count": 16,
      "outputs": [
        {
          "output_type": "execute_result",
          "data": {
            "text/plain": [
              "[('Hey', 'DL'), ('DLITHE', 'DL'), ('Interns', 'DL')]"
            ]
          },
          "metadata": {
            "tags": []
          },
          "execution_count": 16
        }
      ]
    },
    {
      "cell_type": "code",
      "metadata": {
        "id": "LiHbGHd314C1",
        "colab_type": "code",
        "colab": {}
      },
      "source": [
        ""
      ],
      "execution_count": null,
      "outputs": []
    }
  ]
}
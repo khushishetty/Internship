{
 "cells": [
  {
   "cell_type": "code",
   "execution_count": 10,
   "metadata": {},
   "outputs": [
    {
     "name": "stdout",
     "output_type": "stream",
     "text": [
      "Requirement already satisfied: selenium in c:\\users\\khushi\\appdata\\local\\programs\\python\\python38\\lib\\site-packages (3.141.0)\n",
      "Requirement already satisfied: urllib3 in c:\\users\\khushi\\appdata\\local\\programs\\python\\python38\\lib\\site-packages (from selenium) (1.25.9)\n"
     ]
    },
    {
     "name": "stderr",
     "output_type": "stream",
     "text": [
      "WARNING: You are using pip version 19.2.3, however version 20.1.1 is available.\n",
      "You should consider upgrading via the 'python -m pip install --upgrade pip' command.\n"
     ]
    }
   ],
   "source": [
    "!pip install selenium"
   ]
  },
  {
   "cell_type": "code",
   "execution_count": 11,
   "metadata": {},
   "outputs": [
    {
     "name": "stdout",
     "output_type": "stream",
     "text": [
      "Requirement already satisfied: webdriver_manager in c:\\users\\khushi\\appdata\\local\\programs\\python\\python38\\lib\\site-packages (2.5.3)\n",
      "Requirement already satisfied: requests in c:\\users\\khushi\\appdata\\local\\programs\\python\\python38\\lib\\site-packages (from webdriver_manager) (2.23.0)\n",
      "Requirement already satisfied: configparser in c:\\users\\khushi\\appdata\\local\\programs\\python\\python38\\lib\\site-packages (from webdriver_manager) (5.0.0)\n",
      "Requirement already satisfied: crayons in c:\\users\\khushi\\appdata\\local\\programs\\python\\python38\\lib\\site-packages (from webdriver_manager) (0.3.1)\n",
      "Requirement already satisfied: idna<3,>=2.5 in c:\\users\\khushi\\appdata\\local\\programs\\python\\python38\\lib\\site-packages (from requests->webdriver_manager) (2.9)\n",
      "Requirement already satisfied: urllib3!=1.25.0,!=1.25.1,<1.26,>=1.21.1 in c:\\users\\khushi\\appdata\\local\\programs\\python\\python38\\lib\\site-packages (from requests->webdriver_manager) (1.25.9)\n",
      "Requirement already satisfied: certifi>=2017.4.17 in c:\\users\\khushi\\appdata\\local\\programs\\python\\python38\\lib\\site-packages (from requests->webdriver_manager) (2020.4.5.2)\n",
      "Requirement already satisfied: chardet<4,>=3.0.2 in c:\\users\\khushi\\appdata\\local\\programs\\python\\python38\\lib\\site-packages (from requests->webdriver_manager) (3.0.4)\n",
      "Requirement already satisfied: colorama in c:\\users\\khushi\\appdata\\local\\programs\\python\\python38\\lib\\site-packages (from crayons->webdriver_manager) (0.4.3)\n"
     ]
    },
    {
     "name": "stderr",
     "output_type": "stream",
     "text": [
      "WARNING: You are using pip version 19.2.3, however version 20.1.1 is available.\n",
      "You should consider upgrading via the 'python -m pip install --upgrade pip' command.\n"
     ]
    }
   ],
   "source": [
    "!pip install webdriver_manager"
   ]
  },
  {
   "cell_type": "code",
   "execution_count": 12,
   "metadata": {},
   "outputs": [],
   "source": [
    "from selenium import webdriver\n",
    "from webdriver_manager.chrome import ChromeDriverManager\n",
    "import random\n",
    "from selenium.webdriver.common.keys import Keys"
   ]
  },
  {
   "cell_type": "code",
   "execution_count": 32,
   "metadata": {},
   "outputs": [
    {
     "name": "stderr",
     "output_type": "stream",
     "text": [
      "[WDM] - Cache is valid for [09/06/2020]\n",
      "[WDM] - Looking for [chromedriver 83.0.4103.39 win32] driver in cache \n",
      "[WDM] - Driver found in cache [C:\\Users\\Khushi\\.wdm\\drivers\\chromedriver\\83.0.4103.39\\win32\\chromedriver.exe]\n"
     ]
    },
    {
     "name": "stdout",
     "output_type": "stream",
     "text": [
      " \n"
     ]
    }
   ],
   "source": [
    "chrome = webdriver.Chrome(ChromeDriverManager().install())\n",
    "chrome.get(\" https://web.whatsapp.com \")"
   ]
  },
  {
   "cell_type": "code",
   "execution_count": 35,
   "metadata": {},
   "outputs": [],
   "source": [
    "search_box = chrome.find_element_by_class_name(\"_3FRCZ\")\n",
    "search_box.send_keys(\" Mamma \")\n",
    "search_box.send_keys(Keys.ENTER)"
   ]
  },
  {
   "cell_type": "code",
   "execution_count": 36,
   "metadata": {},
   "outputs": [],
   "source": [
    "message_box=chrome.find_element_by_xpath('//*[@id=\"main\"]/footer/div[1]/div[2]/div/div[2]')\n",
    "for i in range(10):\n",
    "    message_box.send_keys(\"mamma hi\")\n",
    "    message_box.send_keys(Keys.ENTER)\n"
   ]
  },
  {
   "cell_type": "code",
   "execution_count": 39,
   "metadata": {},
   "outputs": [],
   "source": [
    "message_box.send_keys(\":-)\")\n",
    "message_box.send_keys(\":-) ;-) :-(\")\n",
    "message_box.send_keys(Keys.ENTER)"
   ]
  },
  {
   "cell_type": "code",
   "execution_count": null,
   "metadata": {},
   "outputs": [],
   "source": [
    "attachment_box=chrome.find_element_by_xpath('//*[@id=\"main\"]/header/div[3]/div/div[2]')\n",
    "attachment_box.click()"
   ]
  },
  {
   "cell_type": "code",
   "execution_count": null,
   "metadata": {},
   "outputs": [],
   "source": [
    "image_url=input(\"Enter image url\")\n",
    "image_box=chrome.find_element_by_xpath('//*[@id=\"main\"]/header/div[3]/div/div[2]/span/div/div/ul/li[1]/button/input')\n",
    "image_box.click()\n",
    "input_box=chrome.find_element_by_tag_name('input')\n",
    "file_path='E:\\KHUSHI\\Mobile pics\\Camera\\IMG_20191026_122636'\n",
    "input_box.send_keys(file_path)\n",
    "import time\n",
    "time.sleep(2)\n",
    "but=chrome.find_element_but_xpath('//*[@id=\"app\"]/div/div/div[2]/div[2]/span/div/span/div/div/div[2]/span/div/div/span')\n",
    "but.click()"
   ]
  },
  {
   "cell_type": "code",
   "execution_count": null,
   "metadata": {},
   "outputs": [],
   "source": []
  }
 ],
 "metadata": {
  "kernelspec": {
   "display_name": "Python 3",
   "language": "python",
   "name": "python3"
  },
  "language_info": {
   "codemirror_mode": {
    "name": "ipython",
    "version": 3
   },
   "file_extension": ".py",
   "mimetype": "text/x-python",
   "name": "python",
   "nbconvert_exporter": "python",
   "pygments_lexer": "ipython3",
   "version": "3.8.3"
  }
 },
 "nbformat": 4,
 "nbformat_minor": 4
}
